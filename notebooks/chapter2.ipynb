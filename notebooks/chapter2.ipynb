{
 "metadata": {
  "language_info": {
   "codemirror_mode": {
    "name": "ipython",
    "version": 3
   },
   "file_extension": ".py",
   "mimetype": "text/x-python",
   "name": "python",
   "nbconvert_exporter": "python",
   "pygments_lexer": "ipython3",
   "version": "3.7.2-final"
  },
  "orig_nbformat": 2,
  "kernelspec": {
   "name": "Python 3.7.2 64-bit",
   "display_name": "Python 3.7.2 64-bit",
   "metadata": {
    "interpreter": {
     "hash": "04635d289a519a1410467dd0afb0db42f9184808881ca68b2eb5a687a20a5a94"
    }
   }
  }
 },
 "nbformat": 4,
 "nbformat_minor": 2,
 "cells": [
  {
   "source": [
    "# 2. Pandas Data Structures\n",
    "\n",
    "Last chapter introduced lists and dictionaries, this one is focused on loading data, looking at Series and DataFrame, and saving.\n",
    "\n",
    "DataFrame is like a dictionary of Series, and a Series is like a list with items exclusively of the same dtype."
   ],
   "cell_type": "markdown",
   "metadata": {}
  },
  {
   "cell_type": "code",
   "execution_count": 167,
   "metadata": {},
   "outputs": [
    {
     "output_type": "stream",
     "name": "stdout",
     "text": [
      "Notice how this series has a dtype of 'object', because it's the LCD\n0    agave\n1       13\ndtype: object\nYou can also specify your own index, this doesn't seem much like a \"series\" to me though\nName                       Animal\nDescription    Drummer Excellente\ndtype: object\n"
     ]
    }
   ],
   "source": [
    "import pandas as pd\n",
    "\n",
    "s = pd.Series(['agave',13])\n",
    "print(\"Notice how this series has a dtype of 'object', because it's the LCD\")\n",
    "print(s)\n",
    "\n",
    "print('You can also specify your own index, this doesn\\'t seem much like a \"series\" to me though')\n",
    "s = pd.Series(['Animal','Drummer Excellente'], index=['Name', 'Description'])\n",
    "print(s)"
   ]
  },
  {
   "cell_type": "code",
   "execution_count": 168,
   "metadata": {},
   "outputs": [
    {
     "output_type": "stream",
     "name": "stdout",
     "text": [
      "Answering some questions\nWhat happens if you pass different types?\na list of tuples just sets the value\n0    (1, A)\n1    (2, B)\ndtype: object\npassing multiple tuples works like you might want, though the index is the second value\nDictionaries should work ok too:\n1    A\n2    B\n3    C\ndtype: object\n"
     ]
    }
   ],
   "source": [
    "print('Answering some questions')\n",
    "print('What happens if you pass different types?')\n",
    "\n",
    "s = pd.Series([('1','A'),('2','B')])\n",
    "print('a list of tuples just sets the value',s, sep='\\n')\n",
    "s = pd.Series(('1','A'),('2','B'))\n",
    "print('passing multiple tuples works like you might want, though the index is the second value')\n",
    "dictionary = {\n",
    "    \"1\": \"A\",\n",
    "    \"2\": \"B\",\n",
    "    \"3\": \"C\"\n",
    "}\n",
    "s = pd.Series(dictionary)\n",
    "print('Dictionaries should work ok too:',s, sep='\\n')"
   ]
  },
  {
   "source": [
    "## Creating DataFrames\n",
    "\n",
    "Dictionaries are the most common way to make DataFrames. The key is the column, and the values are the contents\n"
   ],
   "cell_type": "markdown",
   "metadata": {}
  },
  {
   "cell_type": "code",
   "execution_count": 169,
   "metadata": {},
   "outputs": [
    {
     "output_type": "stream",
     "name": "stdout",
     "text": [
      "   Name  Age        Job        Born        Died\nR  Rose   13    Chemist  1999-01-01  2999-01-01\nB  Barb   33  Biologist  2040-05-03  3040-05-03\n\nNote: An OrderedDictionary could have worked here too\n"
     ]
    }
   ],
   "source": [
    "scientists = pd.DataFrame(\n",
    "    data={\n",
    "        'Name': ['Rose','Barb'],\n",
    "        'Born': ['1999-01-01', '2040-05-03'],\n",
    "        'Died': ['2999-01-01', '3040-05-03'],\n",
    "        'Job': ['Chemist', 'Biologist'],\n",
    "        'Age': [13,33]\n",
    "    },\n",
    "    index=['R','B'],\n",
    "    columns=['Name','Age','Job','Born','Died']\n",
    ")\n",
    "print(scientists)\n",
    "print()\n",
    "print('Note: An OrderedDictionary could have worked here too')"
   ]
  },
  {
   "source": [
    "## Using Series"
   ],
   "cell_type": "markdown",
   "metadata": {}
  },
  {
   "cell_type": "code",
   "execution_count": 170,
   "metadata": {},
   "outputs": [
    {
     "output_type": "stream",
     "name": "stdout",
     "text": [
      "<class 'pandas.core.series.Series'>\nYou can print the list of keys (or indices) with index or keys Index(['Name', 'Age', 'Job', 'Born', 'Died'], dtype='object')\nYou can also just get the values ['Rose' 13 'Chemist' '1999-01-01' '2999-01-01']\n"
     ]
    }
   ],
   "source": [
    "rose = scientists.loc['R']\n",
    "print(type(rose))\n",
    "print('You can print the list of keys (or indices) with index or keys', rose.index)\n",
    "print('You can also just get the values', rose.values)"
   ]
  },
  {
   "cell_type": "code",
   "execution_count": 171,
   "metadata": {},
   "outputs": [
    {
     "output_type": "stream",
     "name": "stdout",
     "text": [
      "You can do interesting things with Series 23.0 13 33 14.142135623730951\n"
     ]
    }
   ],
   "source": [
    "ages = scientists['Age']\n",
    "print('You can do interesting things with Series', ages.mean(), ages.min(), ages.max(), ages.std())"
   ]
  },
  {
   "source": [
    "## Boolean Subsettings (Filtering)"
   ],
   "cell_type": "markdown",
   "metadata": {}
  },
  {
   "cell_type": "code",
   "execution_count": 172,
   "metadata": {},
   "outputs": [
    {
     "output_type": "stream",
     "name": "stdout",
     "text": [
      "                   Name        Born        Died  Age          Occupation\n0     Rosaline Franklin  1920-07-25  1958-04-16   37             Chemist\n1        William Gosset  1876-06-13  1937-10-16   61        Statistician\n2  Florence Nightingale  1820-05-12  1910-08-13   90               Nurse\n3           Marie Curie  1867-11-07  1934-07-04   66             Chemist\n4         Rachel Carson  1907-05-27  1964-04-14   56           Biologist\n5             John Snow  1813-03-15  1858-06-16   45           Physician\n6           Alan Turing  1912-06-23  1954-06-07   41  Computer Scientist\n7          Johann Gauss  1777-04-30  1855-02-23   77       Mathematician\n\nThe describe() method is a great way to get a lay of the land:\ncount     8.000000\nmean     59.125000\nstd      18.325918\nmin      37.000000\n25%      44.000000\n50%      58.500000\n75%      68.750000\nmax      90.000000\nName: Age, dtype: float64\n\nCheck out this expression:\n0     True\n1    False\n2    False\n3    False\n4     True\n5     True\n6     True\n7    False\nName: Age, dtype: bool\nFiltering is easy: 0    37\n4    56\n5    45\n6    41\nName: Age, dtype: int64\n"
     ]
    }
   ],
   "source": [
    "scientists = pd.read_csv('../data/scientists.csv')\n",
    "print(scientists)\n",
    "print()\n",
    "print('The describe() method is a great way to get a lay of the land:',scientists['Age'].describe(),sep='\\n')\n",
    "print()\n",
    "ages = scientists['Age']\n",
    "print('Check out this expression:')\n",
    "print(ages < ages.mean())\n",
    "print('Filtering is easy:', ages[ages < ages.mean()])"
   ]
  },
  {
   "source": [
    "## Correlating Series\n",
    "\n",
    "If you perform operations between two vectors with the same length..."
   ],
   "cell_type": "markdown",
   "metadata": {}
  },
  {
   "cell_type": "code",
   "execution_count": 173,
   "metadata": {},
   "outputs": [
    {
     "output_type": "stream",
     "name": "stdout",
     "text": [
      "0    111\n1    183\n2    270\n3    198\n4    168\n5    135\n6    123\n7    231\nName: Age, dtype: int64\nScalars work too\n0    1037\n1    1061\n2    1090\n3    1066\n4    1056\n5    1045\n6    1041\n7    1077\nName: Age, dtype: int64\n"
     ]
    }
   ],
   "source": [
    "print(ages + ages + ages)\n",
    "print('Scalars work too',ages + 1000, sep='\\n')"
   ]
  },
  {
   "source": [
    "## Broadcasting\n",
    "\n",
    "What if you apply operations between Series of different shapes? Well, if the keys match, the operation will be performed. If not, the result will have a \"missing\" value like NaN."
   ],
   "cell_type": "markdown",
   "metadata": {}
  },
  {
   "cell_type": "code",
   "execution_count": 174,
   "metadata": {},
   "outputs": [
    {
     "output_type": "stream",
     "name": "stdout",
     "text": [
      "0    37\n1     0\n2     0\n3     0\n4    56\n5    45\n6    41\n7     0\nName: Age, dtype: int64\nHaving a bit of fun, what if we wanted to see which scientists were already in their correct sorted order?\n0    37\n1    41\n2    45\n3    56\n4    61\n5    66\n6    77\n7    90\nName: Age, dtype: int64\n0     True\n1    False\n2    False\n3    False\n4    False\n5    False\n6    False\n7    False\nName: Age, dtype: bool\n"
     ]
    }
   ],
   "source": [
    "print(ages * (ages < ages.mean()))\n",
    "print('Having a bit of fun, what if we wanted to see which scientists were already in their correct sorted order?')\n",
    "sortedAgesSeries = ages.sort_values().reset_index()['Age']\n",
    "print(sortedAgesSeries)\n",
    "print(ages == sortedAgesSeries)"
   ]
  },
  {
   "source": [
    "## DataFrame Subsetting\n",
    "\n",
    "Works just like you might think!"
   ],
   "cell_type": "markdown",
   "metadata": {}
  },
  {
   "cell_type": "code",
   "execution_count": 175,
   "metadata": {},
   "outputs": [
    {
     "output_type": "execute_result",
     "data": {
      "text/plain": [
       "                   Name        Born        Died  Age     Occupation\n",
       "1        William Gosset  1876-06-13  1937-10-16   61   Statistician\n",
       "2  Florence Nightingale  1820-05-12  1910-08-13   90          Nurse\n",
       "3           Marie Curie  1867-11-07  1934-07-04   66        Chemist\n",
       "7          Johann Gauss  1777-04-30  1855-02-23   77  Mathematician"
      ],
      "text/html": "<div>\n<style scoped>\n    .dataframe tbody tr th:only-of-type {\n        vertical-align: middle;\n    }\n\n    .dataframe tbody tr th {\n        vertical-align: top;\n    }\n\n    .dataframe thead th {\n        text-align: right;\n    }\n</style>\n<table border=\"1\" class=\"dataframe\">\n  <thead>\n    <tr style=\"text-align: right;\">\n      <th></th>\n      <th>Name</th>\n      <th>Born</th>\n      <th>Died</th>\n      <th>Age</th>\n      <th>Occupation</th>\n    </tr>\n  </thead>\n  <tbody>\n    <tr>\n      <th>1</th>\n      <td>William Gosset</td>\n      <td>1876-06-13</td>\n      <td>1937-10-16</td>\n      <td>61</td>\n      <td>Statistician</td>\n    </tr>\n    <tr>\n      <th>2</th>\n      <td>Florence Nightingale</td>\n      <td>1820-05-12</td>\n      <td>1910-08-13</td>\n      <td>90</td>\n      <td>Nurse</td>\n    </tr>\n    <tr>\n      <th>3</th>\n      <td>Marie Curie</td>\n      <td>1867-11-07</td>\n      <td>1934-07-04</td>\n      <td>66</td>\n      <td>Chemist</td>\n    </tr>\n    <tr>\n      <th>7</th>\n      <td>Johann Gauss</td>\n      <td>1777-04-30</td>\n      <td>1855-02-23</td>\n      <td>77</td>\n      <td>Mathematician</td>\n    </tr>\n  </tbody>\n</table>\n</div>"
     },
     "metadata": {},
     "execution_count": 175
    }
   ],
   "source": [
    "scientists[scientists['Age'] > scientists['Age'].mean()]\n"
   ]
  },
  {
   "source": [
    "## Augmenting DataFrames"
   ],
   "cell_type": "markdown",
   "metadata": {}
  },
  {
   "cell_type": "code",
   "execution_count": 176,
   "metadata": {},
   "outputs": [
    {
     "output_type": "stream",
     "name": "stdout",
     "text": [
      "                   Name        Born        Died  Age          Occupation  \\\n0     Rosaline Franklin  1920-07-25  1958-04-16   37             Chemist   \n1        William Gosset  1876-06-13  1937-10-16   61        Statistician   \n2  Florence Nightingale  1820-05-12  1910-08-13   90               Nurse   \n3           Marie Curie  1867-11-07  1934-07-04   66             Chemist   \n4         Rachel Carson  1907-05-27  1964-04-14   56           Biologist   \n5             John Snow  1813-03-15  1858-06-16   45           Physician   \n6           Alan Turing  1912-06-23  1954-06-07   41  Computer Scientist   \n7          Johann Gauss  1777-04-30  1855-02-23   77       Mathematician   \n\n     born_dt    died_dt  \n0 1920-07-25 1958-04-16  \n1 1876-06-13 1937-10-16  \n2 1820-05-12 1910-08-13  \n3 1867-11-07 1934-07-04  \n4 1907-05-27 1964-04-14  \n5 1813-03-15 1858-06-16  \n6 1912-06-23 1954-06-07  \n7 1777-04-30 1855-02-23  \n"
     ]
    }
   ],
   "source": [
    "bornTime = pd.to_datetime(scientists['Born'], format='%Y-%m-%d')\n",
    "diedTime = pd.to_datetime(scientists['Died'], format='%Y-%m-%d')\n",
    "scientists['born_dt'], scientists['died_dt'] = bornTime, diedTime\n",
    "print(scientists)"
   ]
  },
  {
   "source": [
    "## Mutating DataFrames\n",
    "\n",
    "Note: when mutating, you should take care to use loc over direct indexing because it's possible to get a value-copy of the data instead of a reference back - depending on the kind of array underneath. I'm not getting it from the example below, but it's common to see a \"SettingWithCopy\" warning about this. Read more here: https://pandas.pydata.org/pandas-docs/stable/user_guide/indexing.html#indexing-view-versus-copy"
   ],
   "cell_type": "markdown",
   "metadata": {}
  },
  {
   "cell_type": "code",
   "execution_count": 177,
   "metadata": {},
   "outputs": [
    {
     "output_type": "stream",
     "name": "stdout",
     "text": [
      "0    37\n1    61\n2    90\n3    66\n4    56\n5    45\n6    41\n7    77\nName: Age, dtype: int64\n0    66\n1    56\n2    41\n3    77\n4    90\n5    45\n6    37\n7    61\nName: Age, dtype: int64\n"
     ]
    }
   ],
   "source": [
    "import random\n",
    "random.seed(42)\n",
    "print(scientists['Age'])\n",
    "random.shuffle(scientists['Age'])\n",
    "print(scientists['Age'])"
   ]
  },
  {
   "source": [
    "Here is a better way to do it:"
   ],
   "cell_type": "markdown",
   "metadata": {}
  },
  {
   "cell_type": "code",
   "execution_count": 178,
   "metadata": {},
   "outputs": [
    {
     "output_type": "stream",
     "name": "stdout",
     "text": [
      "0    61\n1    45\n2    37\n3    90\n4    56\n5    66\n6    77\n7    41\nName: Age, dtype: int64\n"
     ]
    }
   ],
   "source": [
    "scientists['Age'] = scientists['Age'].\\\n",
    "    sample(len(scientists['Age']), random_state=24).\\\n",
    "    reset_index(drop=True)\n",
    "print(scientists['Age'])"
   ]
  },
  {
   "source": [
    "Reading the docs about [shuffle](https://docs.python.org/3.6/library/random.html#random.shuffle), you can see they recommend the sample method instead. This works on immutable lists"
   ],
   "cell_type": "markdown",
   "metadata": {}
  },
  {
   "cell_type": "code",
   "execution_count": 179,
   "metadata": {},
   "outputs": [
    {
     "output_type": "execute_result",
     "data": {
      "text/plain": [
       "3             Marie Curie\n",
       "2    Florence Nightingale\n",
       "6             Alan Turing\n",
       "Name: Name, dtype: object"
      ]
     },
     "metadata": {},
     "execution_count": 179
    }
   ],
   "source": [
    "## This is how you can pick 3 random winners\n",
    "scientists.Name.sample(3)"
   ]
  },
  {
   "source": [
    "Now that we have messed up our scientist age, lets fix it from the dates. Pay special attention to that date type, that's slick!"
   ],
   "cell_type": "markdown",
   "metadata": {}
  },
  {
   "cell_type": "code",
   "execution_count": 180,
   "metadata": {},
   "outputs": [
    {
     "output_type": "stream",
     "name": "stdout",
     "text": [
      "                   Name        Born        Died  Age          Occupation  \\\n0     Rosaline Franklin  1920-07-25  1958-04-16   61             Chemist   \n1        William Gosset  1876-06-13  1937-10-16   45        Statistician   \n2  Florence Nightingale  1820-05-12  1910-08-13   37               Nurse   \n3           Marie Curie  1867-11-07  1934-07-04   90             Chemist   \n4         Rachel Carson  1907-05-27  1964-04-14   56           Biologist   \n5             John Snow  1813-03-15  1858-06-16   66           Physician   \n6           Alan Turing  1912-06-23  1954-06-07   77  Computer Scientist   \n7          Johann Gauss  1777-04-30  1855-02-23   41       Mathematician   \n\n     born_dt    died_dt age_days_dt  age_years_dt  \n0 1920-07-25 1958-04-16  13779 days          37.0  \n1 1876-06-13 1937-10-16  22404 days          61.0  \n2 1820-05-12 1910-08-13  32964 days          90.0  \n3 1867-11-07 1934-07-04  24345 days          66.0  \n4 1907-05-27 1964-04-14  20777 days          56.0  \n5 1813-03-15 1858-06-16  16529 days          45.0  \n6 1912-06-23 1954-06-07  15324 days          41.0  \n7 1777-04-30 1855-02-23  28422 days          77.0  \n"
     ]
    }
   ],
   "source": [
    "scientists['age_days_dt'] = scientists.died_dt - scientists.born_dt\n",
    "scientists['age_years_dt'] = scientists['age_days_dt'].astype('timedelta64[Y]')\n",
    "print(scientists)"
   ]
  },
  {
   "source": [
    "scientists['Age']## Dropping Values"
   ],
   "cell_type": "markdown",
   "metadata": {}
  },
  {
   "cell_type": "code",
   "execution_count": 182,
   "metadata": {},
   "outputs": [
    {
     "output_type": "stream",
     "name": "stdout",
     "text": [
      "What, the column is still here!?\nIndex(['Name', 'Born', 'Died', 'Age', 'Occupation', 'born_dt', 'died_dt',\n       'age_days_dt', 'age_years_dt'],\n      dtype='object')\nLet's reassign the result, derp\nIndex(['Name', 'Born', 'Died', 'Age', 'Occupation', 'born_dt', 'died_dt',\n       'age_days_dt', 'age_years_dt'],\n      dtype='object')\n"
     ]
    }
   ],
   "source": [
    "if 'Age' in scientists.columns:\n",
    "    scientists.drop(['Age'], axis=1)\n",
    "print(\"What, the column is still here!?\")\n",
    "print(scientists.columns)\n",
    "print(\"Let's reassign the result, derp\")\n",
    "if 'Age' in scientists.columns:\n",
    "  scientists_dropped = scientists.drop(['Age'], axis=1)\n",
    "print(scientists.columns)\n",
    "\n",
    "\n"
   ]
  },
  {
   "source": [
    "## Saving DataFrames"
   ],
   "cell_type": "markdown",
   "metadata": {}
  },
  {
   "cell_type": "code",
   "execution_count": 194,
   "metadata": {},
   "outputs": [
    {
     "output_type": "stream",
     "name": "stdout",
     "text": [
      "Serializing a pickle\nSerializing a dataframe\n                   Name        Born        Died  Age          Occupation  \\\n0     Rosaline Franklin  1920-07-25  1958-04-16   61             Chemist   \n1        William Gosset  1876-06-13  1937-10-16   45        Statistician   \n2  Florence Nightingale  1820-05-12  1910-08-13   37               Nurse   \n3           Marie Curie  1867-11-07  1934-07-04   90             Chemist   \n4         Rachel Carson  1907-05-27  1964-04-14   56           Biologist   \n5             John Snow  1813-03-15  1858-06-16   66           Physician   \n6           Alan Turing  1912-06-23  1954-06-07   77  Computer Scientist   \n7          Johann Gauss  1777-04-30  1855-02-23   41       Mathematician   \n\n     born_dt    died_dt age_days_dt  age_years_dt  \n0 1920-07-25 1958-04-16  13779 days          37.0  \n1 1876-06-13 1937-10-16  22404 days          61.0  \n2 1820-05-12 1910-08-13  32964 days          90.0  \n3 1867-11-07 1934-07-04  24345 days          66.0  \n4 1907-05-27 1964-04-14  20777 days          56.0  \n5 1813-03-15 1858-06-16  16529 days          45.0  \n6 1912-06-23 1954-06-07  15324 days          41.0  \n7 1777-04-30 1855-02-23  28422 days          77.0  \nIt's common to see extensions of .p, .pl, or .pickle\n"
     ]
    }
   ],
   "source": [
    "names = scientists['Name']\n",
    "print(\"Serializing a pickle\")\n",
    "names.to_pickle('../output/scientists_names_series.pickle')\n",
    "print(\"Serializing a dataframe\")\n",
    "scientists.to_pickle('../output/scientists_names_df.pickle')\n",
    "from_pickle = pd.read_pickle('../output/scientists_names_df.pickle')\n",
    "print(from_pickle)\n",
    "print(\"It's common to see extensions of .p, .pl, or .pickle\")"
   ]
  },
  {
   "cell_type": "code",
   "execution_count": 198,
   "metadata": {},
   "outputs": [
    {
     "output_type": "stream",
     "name": "stdout",
     "text": [
      "You can remove the index, no problemo\n"
     ]
    }
   ],
   "source": [
    "names.to_csv('../output/scientist_names_series.csv')\n",
    "scientists.to_csv('../output/scientists.csv')\n",
    "print(\"You can remove the index, no problemo\")\n",
    "scientists.to_csv('../output/scientists.csv', index=False)"
   ]
  },
  {
   "cell_type": "code",
   "execution_count": 211,
   "metadata": {},
   "outputs": [
    {
     "output_type": "stream",
     "name": "stdout",
     "text": [
      "You can only export DataFrames to excel, but you can easily convert a series to a DataFrame\n                   Name\n0     Rosaline Franklin\n1        William Gosset\n2  Florence Nightingale\n3           Marie Curie\n4         Rachel Carson\n5             John Snow\n6           Alan Turing\n7          Johann Gauss\nNote: had to import the xlwt module for this\nNote: theere are lots of other formats too, interesting stuff like to_sql or to_json\n"
     ]
    }
   ],
   "source": [
    "print(\"You can only export DataFrames to excel, but you can easily convert a series to a DataFrame\")\n",
    "names_df = names.to_frame()\n",
    "print(names_df)\n",
    "names_df.to_excel('../output/scientists_names_series_df.xls')\n",
    "print(\"Note: had to import the xlwt module for this\")\n",
    "print(\"Note: there are lots of other formats too, interesting stuff like to_sql or to_json\")\n"
   ]
  },
  {
   "cell_type": "code",
   "execution_count": null,
   "metadata": {},
   "outputs": [],
   "source": []
  }
 ]
}